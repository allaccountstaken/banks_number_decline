{
 "cells": [
  {
   "cell_type": "code",
   "execution_count": null,
   "metadata": {},
   "outputs": [],
   "source": [
    "#This is a placeholder for the final notebook. \n",
    "#Requirements:\n",
    "'''\n",
    "## The Deliverables\n",
    "The goal of this project is to have you complete a very common real-world task in regard to Regression and Time-Series Modeling. However, real world problems often come with a significant degree of ambiguity, which requires you to use your knowledge of statistics and data science to think critically about and answer.\n",
    "In short, to pass this project, demonstrating the quality and thoughtfulness of your overall recommendation is at least as important as successfully building your models!\n",
    "In order to successfully complete this project, you must have:\n",
    "* A well-documented **_Jupyter Notebook_** containing any code you've written for this project.\n",
    "* An **_'Executive Summary' PowerPoint Presentation_** that explains your rationale and methodology for determining the best zipcodes for investment.\n",
    "### Jupyter Notebook Must-Haves\n",
    "1. You must source & clean your data.  All boring stuff should be pushed to a .py file that is imported.  A single data set (albeit possibly from multiple sources) should be able to support all of the following requirements.\n",
    "2. You must do one each of a linear regression, a logistic regression, and a time-series analysis (to included, at a minimum, a calculation of trend and seasonality).\n",
    "3. In either your linear or logistic regression, use $R^2$ and AIC/BIC to determine the best of two models\n",
    "4. Visualizations to support each of your models built\n",
    "#### Organization/Code Cleanliness\n",
    "The notebook should be well organized, easy to follow, and code is modularized and commented where appropriate.\n",
    "* Level Up: The notebook contains well-formatted, professional looking markdown cells explaining any substantial code. All functions have docstrings that act as professional-quality documentation.\n",
    "* The notebook is written to technical audiences with a way to both understand your approach and reproduce your results. The target audience for this deliverable is other data scientists looking to validate your findings.\n",
    "* Data visualizations you create should be clearly labeled and contextualized--that is, they fit with the surrounding code or problems you're trying to solve. No dropping data visualizations randomly around your notebook without any context!\n",
    "#### Findings\n",
    "Your notebook should briefly mention the metrics you have defined as \"best\", so that any readers understand what technical metrics you are trying to optimize. You do **not** need to explain or defend your your choices in the notebook--the blog post and executive summary presentation are both better suited to that sort of content. However, the notebook should provide enough context about your definition for \"best investment\" so that they understand what the code you are writing is trying to solve.\n",
    "#### Visualizations\n",
    "Regression & Time-Series Analysis are areas of data science that lend themselves well to intuitive data visualizations. **_Any findings worth mentioning in this problem are probably also worth visualizing_**. Your notebook should make use of data visualizations as appropriate to make your findings obvious to any readers.\n",
    "Also, remember that if a visualization is worth creating, then it's also worth taking the extra few minutes to make sure that it is easily understandable and well-formatted. When creating visualizations, make sure that they have:\n",
    "* A title\n",
    "* Clearly labeled X and Y axes, with appropriate scale for each\n",
    "* A legend, when necessary\n",
    "* No overlapping text that makes it hard to read\n",
    "* An intelligent use of color--multiple lines should have different colors and/or symbols to make them easily differentiable to the eye\n",
    "* An appropriate amount of information--avoid creating graphs that are \"too busy\"--for instance, don't create a line graph with 25 different lines on it\n",
    "<center><img src='images/bad-graph-1.png' height=100% width=100%>\n",
    "There's just too much going on in this graph for it to be readable--don't make the same mistake! (<a href='http://genywealth.com/wp-content/uploads/2010/03/line-graph.php_.png'>Source</a>)</center>\n",
    "### Executive Summary Must-Haves\n",
    "Your presentation should:\n",
    "Contain between 5-10 professional quality slides detailing:\n",
    "* A high-level overview of your methodology and findings, including the 5 zipcodes you recommend investing in\n",
    "* A brief explanation of what metrics you defined as \"best\" in order complete this project\n",
    "As always, this presentation should also:\n",
    "* Take no more than 5 minutes to present\n",
    "* Avoid technical jargon and explain results in a clear, actionable way for non-technical audiences.\n",
    "'''"
   ]
  }
 ],
 "metadata": {
  "kernelspec": {
   "display_name": "Python 3",
   "language": "python",
   "name": "python3"
  },
  "language_info": {
   "codemirror_mode": {
    "name": "ipython",
    "version": 3
   },
   "file_extension": ".py",
   "mimetype": "text/x-python",
   "name": "python",
   "nbconvert_exporter": "python",
   "pygments_lexer": "ipython3",
   "version": "3.7.3"
  }
 },
 "nbformat": 4,
 "nbformat_minor": 2
}
