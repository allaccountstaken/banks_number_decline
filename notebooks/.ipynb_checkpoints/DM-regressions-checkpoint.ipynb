{
 "cells": [
  {
   "cell_type": "code",
   "execution_count": 22,
   "metadata": {},
   "outputs": [],
   "source": [
    "import pandas as pd\n",
    "import numpy as np\n",
    "import matplotlib.pyplot as plt\n",
    "import statsmodels.api as sm\n",
    "import statsmodels.formula.api as smf\n",
    "%matplotlib inline\n",
    "#import warnings\n",
    "#warnings.filterwarnings('ignore')"
   ]
  },
  {
   "cell_type": "code",
   "execution_count": 23,
   "metadata": {},
   "outputs": [],
   "source": [
    "df = pd.read_csv('../data/banks_data_1984.csv')\n",
    "NI_df = pd.read_csv('../data/USNIM.csv')\n",
    "ROA_df = pd.read_csv('../data/USROA.csv')\n",
    "NP_df = pd.read_csv('../data/USNP.csv')\n",
    "TAST_df = pd.read_csv('../data/USTAST.csv')"
   ]
  },
  {
   "cell_type": "code",
   "execution_count": 24,
   "metadata": {},
   "outputs": [
    {
     "data": {
      "text/html": [
       "<div>\n",
       "<style scoped>\n",
       "    .dataframe tbody tr th:only-of-type {\n",
       "        vertical-align: middle;\n",
       "    }\n",
       "\n",
       "    .dataframe tbody tr th {\n",
       "        vertical-align: top;\n",
       "    }\n",
       "\n",
       "    .dataframe thead th {\n",
       "        text-align: right;\n",
       "    }\n",
       "</style>\n",
       "<table border=\"1\" class=\"dataframe\">\n",
       "  <thead>\n",
       "    <tr style=\"text-align: right;\">\n",
       "      <th></th>\n",
       "      <th>DATE</th>\n",
       "      <th>USNIM</th>\n",
       "    </tr>\n",
       "  </thead>\n",
       "  <tbody>\n",
       "    <tr>\n",
       "      <th>0</th>\n",
       "      <td>1984-01-01</td>\n",
       "      <td>3.78</td>\n",
       "    </tr>\n",
       "    <tr>\n",
       "      <th>1</th>\n",
       "      <td>1984-04-01</td>\n",
       "      <td>3.87</td>\n",
       "    </tr>\n",
       "    <tr>\n",
       "      <th>2</th>\n",
       "      <td>1984-07-01</td>\n",
       "      <td>3.91</td>\n",
       "    </tr>\n",
       "    <tr>\n",
       "      <th>3</th>\n",
       "      <td>1984-10-01</td>\n",
       "      <td>3.95</td>\n",
       "    </tr>\n",
       "    <tr>\n",
       "      <th>4</th>\n",
       "      <td>1985-01-01</td>\n",
       "      <td>3.97</td>\n",
       "    </tr>\n",
       "    <tr>\n",
       "      <th>5</th>\n",
       "      <td>1985-04-01</td>\n",
       "      <td>4.04</td>\n",
       "    </tr>\n",
       "    <tr>\n",
       "      <th>6</th>\n",
       "      <td>1985-07-01</td>\n",
       "      <td>4.05</td>\n",
       "    </tr>\n",
       "    <tr>\n",
       "      <th>7</th>\n",
       "      <td>1985-10-01</td>\n",
       "      <td>4.06</td>\n",
       "    </tr>\n",
       "    <tr>\n",
       "      <th>8</th>\n",
       "      <td>1986-01-01</td>\n",
       "      <td>3.95</td>\n",
       "    </tr>\n",
       "    <tr>\n",
       "      <th>9</th>\n",
       "      <td>1986-04-01</td>\n",
       "      <td>3.95</td>\n",
       "    </tr>\n",
       "    <tr>\n",
       "      <th>10</th>\n",
       "      <td>1986-07-01</td>\n",
       "      <td>3.93</td>\n",
       "    </tr>\n",
       "    <tr>\n",
       "      <th>11</th>\n",
       "      <td>1986-10-01</td>\n",
       "      <td>3.92</td>\n",
       "    </tr>\n",
       "    <tr>\n",
       "      <th>12</th>\n",
       "      <td>1987-01-01</td>\n",
       "      <td>4.01</td>\n",
       "    </tr>\n",
       "    <tr>\n",
       "      <th>13</th>\n",
       "      <td>1987-04-01</td>\n",
       "      <td>3.99</td>\n",
       "    </tr>\n",
       "    <tr>\n",
       "      <th>14</th>\n",
       "      <td>1987-07-01</td>\n",
       "      <td>4.02</td>\n",
       "    </tr>\n",
       "    <tr>\n",
       "      <th>15</th>\n",
       "      <td>1987-10-01</td>\n",
       "      <td>4.07</td>\n",
       "    </tr>\n",
       "    <tr>\n",
       "      <th>16</th>\n",
       "      <td>1988-01-01</td>\n",
       "      <td>4.01</td>\n",
       "    </tr>\n",
       "    <tr>\n",
       "      <th>17</th>\n",
       "      <td>1988-04-01</td>\n",
       "      <td>4.03</td>\n",
       "    </tr>\n",
       "    <tr>\n",
       "      <th>18</th>\n",
       "      <td>1988-07-01</td>\n",
       "      <td>4.09</td>\n",
       "    </tr>\n",
       "    <tr>\n",
       "      <th>19</th>\n",
       "      <td>1988-10-01</td>\n",
       "      <td>4.21</td>\n",
       "    </tr>\n",
       "    <tr>\n",
       "      <th>20</th>\n",
       "      <td>1989-01-01</td>\n",
       "      <td>4.21</td>\n",
       "    </tr>\n",
       "    <tr>\n",
       "      <th>21</th>\n",
       "      <td>1989-04-01</td>\n",
       "      <td>4.19</td>\n",
       "    </tr>\n",
       "    <tr>\n",
       "      <th>22</th>\n",
       "      <td>1989-07-01</td>\n",
       "      <td>4.13</td>\n",
       "    </tr>\n",
       "    <tr>\n",
       "      <th>23</th>\n",
       "      <td>1989-10-01</td>\n",
       "      <td>4.13</td>\n",
       "    </tr>\n",
       "    <tr>\n",
       "      <th>24</th>\n",
       "      <td>1990-01-01</td>\n",
       "      <td>4.00</td>\n",
       "    </tr>\n",
       "    <tr>\n",
       "      <th>25</th>\n",
       "      <td>1990-04-01</td>\n",
       "      <td>4.00</td>\n",
       "    </tr>\n",
       "    <tr>\n",
       "      <th>26</th>\n",
       "      <td>1990-07-01</td>\n",
       "      <td>4.00</td>\n",
       "    </tr>\n",
       "    <tr>\n",
       "      <th>27</th>\n",
       "      <td>1990-10-01</td>\n",
       "      <td>4.03</td>\n",
       "    </tr>\n",
       "    <tr>\n",
       "      <th>28</th>\n",
       "      <td>1991-01-01</td>\n",
       "      <td>4.08</td>\n",
       "    </tr>\n",
       "    <tr>\n",
       "      <th>29</th>\n",
       "      <td>1991-04-01</td>\n",
       "      <td>4.11</td>\n",
       "    </tr>\n",
       "    <tr>\n",
       "      <th>...</th>\n",
       "      <td>...</td>\n",
       "      <td>...</td>\n",
       "    </tr>\n",
       "    <tr>\n",
       "      <th>111</th>\n",
       "      <td>2011-10-01</td>\n",
       "      <td>3.53</td>\n",
       "    </tr>\n",
       "    <tr>\n",
       "      <th>112</th>\n",
       "      <td>2012-01-01</td>\n",
       "      <td>3.45</td>\n",
       "    </tr>\n",
       "    <tr>\n",
       "      <th>113</th>\n",
       "      <td>2012-04-01</td>\n",
       "      <td>3.41</td>\n",
       "    </tr>\n",
       "    <tr>\n",
       "      <th>114</th>\n",
       "      <td>2012-07-01</td>\n",
       "      <td>3.39</td>\n",
       "    </tr>\n",
       "    <tr>\n",
       "      <th>115</th>\n",
       "      <td>2012-10-01</td>\n",
       "      <td>3.37</td>\n",
       "    </tr>\n",
       "    <tr>\n",
       "      <th>116</th>\n",
       "      <td>2013-01-01</td>\n",
       "      <td>3.20</td>\n",
       "    </tr>\n",
       "    <tr>\n",
       "      <th>117</th>\n",
       "      <td>2013-04-01</td>\n",
       "      <td>3.20</td>\n",
       "    </tr>\n",
       "    <tr>\n",
       "      <th>118</th>\n",
       "      <td>2013-07-01</td>\n",
       "      <td>3.19</td>\n",
       "    </tr>\n",
       "    <tr>\n",
       "      <th>119</th>\n",
       "      <td>2013-10-01</td>\n",
       "      <td>3.20</td>\n",
       "    </tr>\n",
       "    <tr>\n",
       "      <th>120</th>\n",
       "      <td>2014-01-01</td>\n",
       "      <td>3.10</td>\n",
       "    </tr>\n",
       "    <tr>\n",
       "      <th>121</th>\n",
       "      <td>2014-04-01</td>\n",
       "      <td>3.09</td>\n",
       "    </tr>\n",
       "    <tr>\n",
       "      <th>122</th>\n",
       "      <td>2014-07-01</td>\n",
       "      <td>3.09</td>\n",
       "    </tr>\n",
       "    <tr>\n",
       "      <th>123</th>\n",
       "      <td>2014-10-01</td>\n",
       "      <td>3.11</td>\n",
       "    </tr>\n",
       "    <tr>\n",
       "      <th>124</th>\n",
       "      <td>2015-01-01</td>\n",
       "      <td>2.95</td>\n",
       "    </tr>\n",
       "    <tr>\n",
       "      <th>125</th>\n",
       "      <td>2015-04-01</td>\n",
       "      <td>2.98</td>\n",
       "    </tr>\n",
       "    <tr>\n",
       "      <th>126</th>\n",
       "      <td>2015-07-01</td>\n",
       "      <td>2.99</td>\n",
       "    </tr>\n",
       "    <tr>\n",
       "      <th>127</th>\n",
       "      <td>2015-10-01</td>\n",
       "      <td>3.02</td>\n",
       "    </tr>\n",
       "    <tr>\n",
       "      <th>128</th>\n",
       "      <td>2016-01-01</td>\n",
       "      <td>3.02</td>\n",
       "    </tr>\n",
       "    <tr>\n",
       "      <th>129</th>\n",
       "      <td>2016-04-01</td>\n",
       "      <td>3.01</td>\n",
       "    </tr>\n",
       "    <tr>\n",
       "      <th>130</th>\n",
       "      <td>2016-07-01</td>\n",
       "      <td>3.03</td>\n",
       "    </tr>\n",
       "    <tr>\n",
       "      <th>131</th>\n",
       "      <td>2016-10-01</td>\n",
       "      <td>3.06</td>\n",
       "    </tr>\n",
       "    <tr>\n",
       "      <th>132</th>\n",
       "      <td>2017-01-01</td>\n",
       "      <td>3.10</td>\n",
       "    </tr>\n",
       "    <tr>\n",
       "      <th>133</th>\n",
       "      <td>2017-04-01</td>\n",
       "      <td>3.12</td>\n",
       "    </tr>\n",
       "    <tr>\n",
       "      <th>134</th>\n",
       "      <td>2017-07-01</td>\n",
       "      <td>3.15</td>\n",
       "    </tr>\n",
       "    <tr>\n",
       "      <th>135</th>\n",
       "      <td>2017-10-01</td>\n",
       "      <td>3.17</td>\n",
       "    </tr>\n",
       "    <tr>\n",
       "      <th>136</th>\n",
       "      <td>2018-01-01</td>\n",
       "      <td>3.23</td>\n",
       "    </tr>\n",
       "    <tr>\n",
       "      <th>137</th>\n",
       "      <td>2018-04-01</td>\n",
       "      <td>3.30</td>\n",
       "    </tr>\n",
       "    <tr>\n",
       "      <th>138</th>\n",
       "      <td>2018-07-01</td>\n",
       "      <td>3.33</td>\n",
       "    </tr>\n",
       "    <tr>\n",
       "      <th>139</th>\n",
       "      <td>2018-10-01</td>\n",
       "      <td>3.35</td>\n",
       "    </tr>\n",
       "    <tr>\n",
       "      <th>140</th>\n",
       "      <td>2019-01-01</td>\n",
       "      <td>3.36</td>\n",
       "    </tr>\n",
       "  </tbody>\n",
       "</table>\n",
       "<p>141 rows × 2 columns</p>\n",
       "</div>"
      ],
      "text/plain": [
       "           DATE  USNIM\n",
       "0    1984-01-01   3.78\n",
       "1    1984-04-01   3.87\n",
       "2    1984-07-01   3.91\n",
       "3    1984-10-01   3.95\n",
       "4    1985-01-01   3.97\n",
       "5    1985-04-01   4.04\n",
       "6    1985-07-01   4.05\n",
       "7    1985-10-01   4.06\n",
       "8    1986-01-01   3.95\n",
       "9    1986-04-01   3.95\n",
       "10   1986-07-01   3.93\n",
       "11   1986-10-01   3.92\n",
       "12   1987-01-01   4.01\n",
       "13   1987-04-01   3.99\n",
       "14   1987-07-01   4.02\n",
       "15   1987-10-01   4.07\n",
       "16   1988-01-01   4.01\n",
       "17   1988-04-01   4.03\n",
       "18   1988-07-01   4.09\n",
       "19   1988-10-01   4.21\n",
       "20   1989-01-01   4.21\n",
       "21   1989-04-01   4.19\n",
       "22   1989-07-01   4.13\n",
       "23   1989-10-01   4.13\n",
       "24   1990-01-01   4.00\n",
       "25   1990-04-01   4.00\n",
       "26   1990-07-01   4.00\n",
       "27   1990-10-01   4.03\n",
       "28   1991-01-01   4.08\n",
       "29   1991-04-01   4.11\n",
       "..          ...    ...\n",
       "111  2011-10-01   3.53\n",
       "112  2012-01-01   3.45\n",
       "113  2012-04-01   3.41\n",
       "114  2012-07-01   3.39\n",
       "115  2012-10-01   3.37\n",
       "116  2013-01-01   3.20\n",
       "117  2013-04-01   3.20\n",
       "118  2013-07-01   3.19\n",
       "119  2013-10-01   3.20\n",
       "120  2014-01-01   3.10\n",
       "121  2014-04-01   3.09\n",
       "122  2014-07-01   3.09\n",
       "123  2014-10-01   3.11\n",
       "124  2015-01-01   2.95\n",
       "125  2015-04-01   2.98\n",
       "126  2015-07-01   2.99\n",
       "127  2015-10-01   3.02\n",
       "128  2016-01-01   3.02\n",
       "129  2016-04-01   3.01\n",
       "130  2016-07-01   3.03\n",
       "131  2016-10-01   3.06\n",
       "132  2017-01-01   3.10\n",
       "133  2017-04-01   3.12\n",
       "134  2017-07-01   3.15\n",
       "135  2017-10-01   3.17\n",
       "136  2018-01-01   3.23\n",
       "137  2018-04-01   3.30\n",
       "138  2018-07-01   3.33\n",
       "139  2018-10-01   3.35\n",
       "140  2019-01-01   3.36\n",
       "\n",
       "[141 rows x 2 columns]"
      ]
     },
     "execution_count": 24,
     "metadata": {},
     "output_type": "execute_result"
    }
   ],
   "source": [
    "NI_df"
   ]
  },
  {
   "cell_type": "code",
   "execution_count": 25,
   "metadata": {},
   "outputs": [
    {
     "data": {
      "text/plain": [
       "Index(['DATE', 'US100NUM', 'US13NUM', 'US31NUM', 'US115NUM', 'USG15NUM',\n",
       "       'US100NIM', 'US13NIM', 'US31NIM', 'US115NIM', 'USG15NIM', 'US100ROA',\n",
       "       'US13ROA', 'US31ROA', 'US115ROA', 'USG15ROA', 'US100ROE', 'US13ROE',\n",
       "       'US31ROE', 'US115ROE', 'USG15ROE', 'US100LLRTL', 'US13LLRTL',\n",
       "       'US31LLRTL', 'US115LLRTL', 'USG15LLRTL', 'US100NPTL', 'US13NPTL',\n",
       "       'US31NPTL', 'US115NPTL', 'USG15NPTL'],\n",
       "      dtype='object')"
      ]
     },
     "execution_count": 25,
     "metadata": {},
     "output_type": "execute_result"
    }
   ],
   "source": [
    "df.columns"
   ]
  },
  {
   "cell_type": "code",
   "execution_count": 27,
   "metadata": {},
   "outputs": [
    {
     "data": {
      "text/html": [
       "<div>\n",
       "<style scoped>\n",
       "    .dataframe tbody tr th:only-of-type {\n",
       "        vertical-align: middle;\n",
       "    }\n",
       "\n",
       "    .dataframe tbody tr th {\n",
       "        vertical-align: top;\n",
       "    }\n",
       "\n",
       "    .dataframe thead th {\n",
       "        text-align: right;\n",
       "    }\n",
       "</style>\n",
       "<table border=\"1\" class=\"dataframe\">\n",
       "  <thead>\n",
       "    <tr style=\"text-align: right;\">\n",
       "      <th></th>\n",
       "      <th>DATE</th>\n",
       "      <th>US100NUM</th>\n",
       "      <th>US13NUM</th>\n",
       "      <th>US31NUM</th>\n",
       "      <th>US115NUM</th>\n",
       "      <th>USG15NUM</th>\n",
       "      <th>US100NIM</th>\n",
       "      <th>US13NIM</th>\n",
       "      <th>US31NIM</th>\n",
       "      <th>US115NIM</th>\n",
       "      <th>...</th>\n",
       "      <th>USG15NPTL</th>\n",
       "      <th>TinyBanksNum</th>\n",
       "      <th>SmallBanksNum</th>\n",
       "      <th>MidBanksNum</th>\n",
       "      <th>LargeBanksNum</th>\n",
       "      <th>BanksNum</th>\n",
       "      <th>USNIM</th>\n",
       "      <th>USROA</th>\n",
       "      <th>USNP</th>\n",
       "      <th>USTAST</th>\n",
       "    </tr>\n",
       "  </thead>\n",
       "  <tbody>\n",
       "    <tr>\n",
       "      <th>133</th>\n",
       "      <td>2017-04-01</td>\n",
       "      <td>1298</td>\n",
       "      <td>1891</td>\n",
       "      <td>1197</td>\n",
       "      <td>519</td>\n",
       "      <td>77</td>\n",
       "      <td>3.78</td>\n",
       "      <td>3.83</td>\n",
       "      <td>3.81</td>\n",
       "      <td>3.77</td>\n",
       "      <td>...</td>\n",
       "      <td>1.29</td>\n",
       "      <td>0.260538</td>\n",
       "      <td>0.379566</td>\n",
       "      <td>0.240265</td>\n",
       "      <td>0.104175</td>\n",
       "      <td>4982</td>\n",
       "      <td>3.12</td>\n",
       "      <td>1.07</td>\n",
       "      <td>104212021</td>\n",
       "      <td>15739705756</td>\n",
       "    </tr>\n",
       "    <tr>\n",
       "      <th>134</th>\n",
       "      <td>2017-07-01</td>\n",
       "      <td>1284</td>\n",
       "      <td>1871</td>\n",
       "      <td>1197</td>\n",
       "      <td>512</td>\n",
       "      <td>78</td>\n",
       "      <td>3.82</td>\n",
       "      <td>3.88</td>\n",
       "      <td>3.85</td>\n",
       "      <td>3.77</td>\n",
       "      <td>...</td>\n",
       "      <td>1.25</td>\n",
       "      <td>0.259814</td>\n",
       "      <td>0.378592</td>\n",
       "      <td>0.242210</td>\n",
       "      <td>0.103602</td>\n",
       "      <td>4942</td>\n",
       "      <td>3.15</td>\n",
       "      <td>1.08</td>\n",
       "      <td>102553750</td>\n",
       "      <td>15902768562</td>\n",
       "    </tr>\n",
       "    <tr>\n",
       "      <th>135</th>\n",
       "      <td>2017-10-01</td>\n",
       "      <td>1269</td>\n",
       "      <td>1849</td>\n",
       "      <td>1184</td>\n",
       "      <td>506</td>\n",
       "      <td>81</td>\n",
       "      <td>3.84</td>\n",
       "      <td>3.90</td>\n",
       "      <td>3.85</td>\n",
       "      <td>3.81</td>\n",
       "      <td>...</td>\n",
       "      <td>1.26</td>\n",
       "      <td>0.259562</td>\n",
       "      <td>0.378196</td>\n",
       "      <td>0.242176</td>\n",
       "      <td>0.103498</td>\n",
       "      <td>4889</td>\n",
       "      <td>3.17</td>\n",
       "      <td>0.94</td>\n",
       "      <td>103976758</td>\n",
       "      <td>16035845919</td>\n",
       "    </tr>\n",
       "    <tr>\n",
       "      <th>136</th>\n",
       "      <td>2018-01-01</td>\n",
       "      <td>1230</td>\n",
       "      <td>1821</td>\n",
       "      <td>1193</td>\n",
       "      <td>523</td>\n",
       "      <td>85</td>\n",
       "      <td>3.85</td>\n",
       "      <td>3.89</td>\n",
       "      <td>3.86</td>\n",
       "      <td>3.87</td>\n",
       "      <td>...</td>\n",
       "      <td>1.18</td>\n",
       "      <td>0.253504</td>\n",
       "      <td>0.375309</td>\n",
       "      <td>0.245878</td>\n",
       "      <td>0.107791</td>\n",
       "      <td>4852</td>\n",
       "      <td>3.23</td>\n",
       "      <td>1.26</td>\n",
       "      <td>99165272</td>\n",
       "      <td>16147089295</td>\n",
       "    </tr>\n",
       "    <tr>\n",
       "      <th>137</th>\n",
       "      <td>2018-04-01</td>\n",
       "      <td>1218</td>\n",
       "      <td>1791</td>\n",
       "      <td>1182</td>\n",
       "      <td>529</td>\n",
       "      <td>86</td>\n",
       "      <td>3.88</td>\n",
       "      <td>3.93</td>\n",
       "      <td>3.91</td>\n",
       "      <td>3.89</td>\n",
       "      <td>...</td>\n",
       "      <td>1.08</td>\n",
       "      <td>0.253433</td>\n",
       "      <td>0.372659</td>\n",
       "      <td>0.245943</td>\n",
       "      <td>0.110071</td>\n",
       "      <td>4806</td>\n",
       "      <td>3.30</td>\n",
       "      <td>1.34</td>\n",
       "      <td>93151960</td>\n",
       "      <td>16240091829</td>\n",
       "    </tr>\n",
       "    <tr>\n",
       "      <th>138</th>\n",
       "      <td>2018-07-01</td>\n",
       "      <td>1190</td>\n",
       "      <td>1776</td>\n",
       "      <td>1169</td>\n",
       "      <td>525</td>\n",
       "      <td>86</td>\n",
       "      <td>3.91</td>\n",
       "      <td>3.97</td>\n",
       "      <td>3.94</td>\n",
       "      <td>3.91</td>\n",
       "      <td>...</td>\n",
       "      <td>1.02</td>\n",
       "      <td>0.250737</td>\n",
       "      <td>0.374210</td>\n",
       "      <td>0.246313</td>\n",
       "      <td>0.110619</td>\n",
       "      <td>4746</td>\n",
       "      <td>3.33</td>\n",
       "      <td>1.36</td>\n",
       "      <td>89714404</td>\n",
       "      <td>16350523149</td>\n",
       "    </tr>\n",
       "    <tr>\n",
       "      <th>139</th>\n",
       "      <td>2018-10-01</td>\n",
       "      <td>1165</td>\n",
       "      <td>1748</td>\n",
       "      <td>1161</td>\n",
       "      <td>526</td>\n",
       "      <td>87</td>\n",
       "      <td>3.94</td>\n",
       "      <td>3.99</td>\n",
       "      <td>3.98</td>\n",
       "      <td>3.92</td>\n",
       "      <td>...</td>\n",
       "      <td>0.99</td>\n",
       "      <td>0.248560</td>\n",
       "      <td>0.372946</td>\n",
       "      <td>0.247706</td>\n",
       "      <td>0.112225</td>\n",
       "      <td>4687</td>\n",
       "      <td>3.35</td>\n",
       "      <td>1.35</td>\n",
       "      <td>88525345</td>\n",
       "      <td>16591224858</td>\n",
       "    </tr>\n",
       "    <tr>\n",
       "      <th>140</th>\n",
       "      <td>2019-01-01</td>\n",
       "      <td>1121</td>\n",
       "      <td>1710</td>\n",
       "      <td>1189</td>\n",
       "      <td>540</td>\n",
       "      <td>92</td>\n",
       "      <td>3.91</td>\n",
       "      <td>3.95</td>\n",
       "      <td>3.92</td>\n",
       "      <td>3.90</td>\n",
       "      <td>...</td>\n",
       "      <td>0.99</td>\n",
       "      <td>0.240972</td>\n",
       "      <td>0.367584</td>\n",
       "      <td>0.255589</td>\n",
       "      <td>0.116079</td>\n",
       "      <td>4652</td>\n",
       "      <td>3.36</td>\n",
       "      <td>1.35</td>\n",
       "      <td>88950973</td>\n",
       "      <td>16769527586</td>\n",
       "    </tr>\n",
       "  </tbody>\n",
       "</table>\n",
       "<p>8 rows × 40 columns</p>\n",
       "</div>"
      ],
      "text/plain": [
       "           DATE  US100NUM  US13NUM  US31NUM  US115NUM  USG15NUM  US100NIM  \\\n",
       "133  2017-04-01      1298     1891     1197       519        77      3.78   \n",
       "134  2017-07-01      1284     1871     1197       512        78      3.82   \n",
       "135  2017-10-01      1269     1849     1184       506        81      3.84   \n",
       "136  2018-01-01      1230     1821     1193       523        85      3.85   \n",
       "137  2018-04-01      1218     1791     1182       529        86      3.88   \n",
       "138  2018-07-01      1190     1776     1169       525        86      3.91   \n",
       "139  2018-10-01      1165     1748     1161       526        87      3.94   \n",
       "140  2019-01-01      1121     1710     1189       540        92      3.91   \n",
       "\n",
       "     US13NIM  US31NIM  US115NIM  ...  USG15NPTL  TinyBanksNum  SmallBanksNum  \\\n",
       "133     3.83     3.81      3.77  ...       1.29      0.260538       0.379566   \n",
       "134     3.88     3.85      3.77  ...       1.25      0.259814       0.378592   \n",
       "135     3.90     3.85      3.81  ...       1.26      0.259562       0.378196   \n",
       "136     3.89     3.86      3.87  ...       1.18      0.253504       0.375309   \n",
       "137     3.93     3.91      3.89  ...       1.08      0.253433       0.372659   \n",
       "138     3.97     3.94      3.91  ...       1.02      0.250737       0.374210   \n",
       "139     3.99     3.98      3.92  ...       0.99      0.248560       0.372946   \n",
       "140     3.95     3.92      3.90  ...       0.99      0.240972       0.367584   \n",
       "\n",
       "     MidBanksNum  LargeBanksNum  BanksNum  USNIM  USROA       USNP  \\\n",
       "133     0.240265       0.104175      4982   3.12   1.07  104212021   \n",
       "134     0.242210       0.103602      4942   3.15   1.08  102553750   \n",
       "135     0.242176       0.103498      4889   3.17   0.94  103976758   \n",
       "136     0.245878       0.107791      4852   3.23   1.26   99165272   \n",
       "137     0.245943       0.110071      4806   3.30   1.34   93151960   \n",
       "138     0.246313       0.110619      4746   3.33   1.36   89714404   \n",
       "139     0.247706       0.112225      4687   3.35   1.35   88525345   \n",
       "140     0.255589       0.116079      4652   3.36   1.35   88950973   \n",
       "\n",
       "          USTAST  \n",
       "133  15739705756  \n",
       "134  15902768562  \n",
       "135  16035845919  \n",
       "136  16147089295  \n",
       "137  16240091829  \n",
       "138  16350523149  \n",
       "139  16591224858  \n",
       "140  16769527586  \n",
       "\n",
       "[8 rows x 40 columns]"
      ]
     },
     "execution_count": 27,
     "metadata": {},
     "output_type": "execute_result"
    }
   ],
   "source": [
    "#TODO: move this step to data set prep file\n",
    "df = df.merge(NI_df, how = 'left')\n",
    "df = df.merge(ROA_df, how = 'left')\n",
    "df = df.merge(NP_df, how = 'left')\n",
    "df = df.merge(TAST_df, how = 'left')\n",
    "df.tail(8)"
   ]
  },
  {
   "cell_type": "code",
   "execution_count": 28,
   "metadata": {},
   "outputs": [],
   "source": [
    "#df.DATE = pd.to_datetime(df.DATE, infer_datetime_format=True)\n",
    "#df.set_index(\"DATE\", inplace = True)"
   ]
  },
  {
   "cell_type": "code",
   "execution_count": 29,
   "metadata": {},
   "outputs": [],
   "source": [
    "#For now, we choose not to consider super big banks with assets greater than $15B\n",
    "df['TinyBanksNum'] = df.US100NUM /(df.US100NUM+df.US13NUM+df.US31NUM+df.US115NUM+df.USG15NUM)\n",
    "df['SmallBanksNum'] = df.US13NUM / (df.US100NUM+df.US13NUM+df.US31NUM+df.US115NUM+df.USG15NUM)\n",
    "df['MidBanksNum'] = df.US31NUM / (df.US100NUM+df.US13NUM+df.US31NUM+df.US115NUM+df.USG15NUM)\n",
    "df['LargeBanksNum'] = df.US115NUM /(df.US100NUM+df.US13NUM+df.US31NUM+df.US115NUM+df.USG15NUM)\n",
    "df['BanksNum'] = df.US100NUM+df.US13NUM+df.US31NUM+df.US115NUM+df.USG15NUM"
   ]
  },
  {
   "cell_type": "code",
   "execution_count": 30,
   "metadata": {
    "scrolled": true
   },
   "outputs": [
    {
     "data": {
      "image/png": "[encoded data removed]",
      "text/plain": [
       "<Figure size 720x720 with 4 Axes>"
      ]
     },
     "metadata": {
      "needs_background": "light"
     },
     "output_type": "display_data"
    }
   ],
   "source": [
    "#TODO: fix y-axis into DateTime + consider changeng to 1 row (subplots(1,4))\n",
    "fig, axs = plt.subplots(2, 2, figsize = (10,10), sharey='row', gridspec_kw={'hspace': 0.25, 'wspace': 0.05})\n",
    "fig.suptitle('Figure 1: Ratio of number of banks by asset size')\n",
    "axs[0, 0].plot(df.TinyBanksNum)\n",
    "axs[0, 0].set_title('Assets <$100M')\n",
    "\n",
    "axs[0, 1].plot(df.SmallBanksNum, 'tab:orange')\n",
    "axs[0, 1].set_title('Assets $100M-$300M')\n",
    "axs[1, 0].plot(df.MidBanksNum, 'tab:green')\n",
    "axs[1, 0].set_title('Assets $300M-$1B')\n",
    "axs[1, 1].plot(df.LargeBanksNum, 'tab:red')\n",
    "axs[1, 1].set_title('Assets $1B-$15M')\n",
    "plt.show()"
   ]
  },
  {
   "cell_type": "code",
   "execution_count": 31,
   "metadata": {},
   "outputs": [
    {
     "data": {
      "image/png": "[encoded data removed]",
      "text/plain": [
       "<Figure size 720x720 with 1 Axes>"
      ]
     },
     "metadata": {
      "needs_background": "light"
     },
     "output_type": "display_data"
    }
   ],
   "source": [
    "plt.figure(figsize = (10, 10))\n",
    "plt.title ('Figure 2: Number of banks')\n",
    "plt.plot(df.BanksNum)\n",
    "plt.show()"
   ]
  },
  {
   "cell_type": "code",
   "execution_count": 32,
   "metadata": {},
   "outputs": [
    {
     "data": {
      "image/png": "[encoded data removed]",
      "text/plain": [
       "<Figure size 720x720 with 1 Axes>"
      ]
     },
     "metadata": {
      "needs_background": "light"
     },
     "output_type": "display_data"
    }
   ],
   "source": [
    "# Add major events to historical trend\n",
    "plt.figure(figsize = (10, 10))\n",
    "plt.title ('Figure 2: Average net-income to assets ratio')\n",
    "plt.plot(df.USNIM)\n",
    "plt.show()"
   ]
  },
  {
   "cell_type": "code",
   "execution_count": 33,
   "metadata": {},
   "outputs": [
    {
     "data": {
      "image/png": "[encoded data removed]",
      "text/plain": [
       "<Figure size 720x720 with 1 Axes>"
      ]
     },
     "metadata": {
      "needs_background": "light"
     },
     "output_type": "display_data"
    }
   ],
   "source": [
    "\n",
    "plt.figure(figsize = (10, 10))\n",
    "plt.title ('Figure 3: Total amount of assets')\n",
    "plt.plot(df.USTAST)\n",
    "plt.show()"
   ]
  },
  {
   "cell_type": "code",
   "execution_count": 34,
   "metadata": {},
   "outputs": [
    {
     "data": {
      "image/png": "[encoded data removed]",
      "text/plain": [
       "<Figure size 720x720 with 1 Axes>"
      ]
     },
     "metadata": {
      "needs_background": "light"
     },
     "output_type": "display_data"
    }
   ],
   "source": [
    "plt.figure(figsize = (10, 10))\n",
    "plt.title ('Figure 2: Total non-performing loans')\n",
    "plt.plot(df.USNP)\n",
    "plt.show()"
   ]
  },
  {
   "cell_type": "code",
   "execution_count": 35,
   "metadata": {},
   "outputs": [
    {
     "name": "stdout",
     "output_type": "stream",
     "text": [
      "                            OLS Regression Results                            \n",
      "==============================================================================\n",
      "Dep. Variable:               BanksNum   R-squared:                       0.525\n",
      "Model:                            OLS   Adj. R-squared:                  0.521\n",
      "Method:                 Least Squares   F-statistic:                     153.4\n",
      "Date:                Wed, 31 Jul 2019   Prob (F-statistic):           3.31e-24\n",
      "Time:                        09:34:59   Log-Likelihood:                -1273.4\n",
      "No. Observations:                 141   AIC:                             2551.\n",
      "Df Residuals:                     139   BIC:                             2557.\n",
      "Df Model:                           1                                         \n",
      "Covariance Type:            nonrobust                                         \n",
      "==============================================================================\n",
      "                 coef    std err          t      P>|t|      [0.025      0.975]\n",
      "------------------------------------------------------------------------------\n",
      "const      -9047.0984   1460.536     -6.194      0.000   -1.19e+04   -6159.360\n",
      "USNIM       4753.2461    383.766     12.386      0.000    3994.473    5512.019\n",
      "==============================================================================\n",
      "Omnibus:                       20.543   Durbin-Watson:                   0.058\n",
      "Prob(Omnibus):                  0.000   Jarque-Bera (JB):               25.308\n",
      "Skew:                           1.032   Prob(JB):                     3.20e-06\n",
      "Kurtosis:                       3.220   Cond. No.                         34.6\n",
      "==============================================================================\n",
      "\n",
      "Warnings:\n",
      "[1] Standard Errors assume that the covariance matrix of the errors is correctly specified.\n"
     ]
    }
   ],
   "source": [
    "#Step 1: Consider regression NUM = b_0+b_1 * (NI)\n",
    "mod = sm.OLS(df.BanksNum, sm.add_constant(df.USNIM))\n",
    "res = mod.fit()\n",
    "print(res.summary())"
   ]
  },
  {
   "cell_type": "code",
   "execution_count": 36,
   "metadata": {},
   "outputs": [
    {
     "data": {
      "image/png": "[encoded data removed]",
      "text/plain": [
       "<Figure size 432x288 with 1 Axes>"
      ]
     },
     "metadata": {
      "needs_background": "light"
     },
     "output_type": "display_data"
    },
    {
     "data": {
      "text/plain": [
       "'Omnibus/Prob(Omnibus) – a test of the skewness and kurtosis of the residual (characteristic #2). \\nWe hope to see a value close to zero which would indicate normalcy. The Prob (Omnibus) performs a \\nstatistical test indicating the probability that the residuals are normally distributed. \\nWe hope to see something close to 1 here. In this case Omnibus is relatively low and the Prob (Omnibus) \\nis relatively high so the data is somewhat normal, but not altogether ideal. \\nA linear regression approach would probably be better than random guessing but likely not as good as a \\nnonlinear approach.\\n\\nSkew – a measure of data symmetry. We want to see something close to zero, indicating the residual distribution \\nis normal. Note that this value also drives the Omnibus. This result has a small, and therefore good, skew.\\n\\nKurtosis – a measure of \"peakiness\", or curvature of the data. Higher peaks lead to greater Kurtosis. \\nGreater Kurtosis can be interpreted as a tighter clustering of residuals around zero, implying a better \\nmodel with few outliers.\\n\\nDurbin-Watson – tests for homoscedasticity (characteristic #3). We hope to have a value between 1 and 2. \\nIn this case, the data is close, but within limits.\\n\\nJarque-Bera (JB)/Prob(JB) – like the Omnibus test in that it tests both skew and kurtosis. We hope to see \\nin this test a confirmation of the Omnibus test. In this case we do.\\n\\nCondition Number – This test measures the sensitivity of a function\\'s output as compared to its input \\n(characteristic #4). When we have multicollinearity, we can expect much higher fluctuations to small \\nchanges in the data, hence, we hope to see a relatively small number, something below 30. \\nIn this case we are well below 30, which we would expect given our model only has two variables and one \\nis a constant.'"
      ]
     },
     "execution_count": 36,
     "metadata": {},
     "output_type": "execute_result"
    }
   ],
   "source": [
    "plt.scatter(x = df.USNIM, y = df.BanksNum)\n",
    "plt.show()\n",
    "'''Omnibus/Prob(Omnibus) – a test of the skewness and kurtosis of the residual (characteristic #2). \n",
    "We hope to see a value close to zero which would indicate normalcy. The Prob (Omnibus) performs a \n",
    "statistical test indicating the probability that the residuals are normally distributed. \n",
    "We hope to see something close to 1 here. In this case Omnibus is relatively low and the Prob (Omnibus) \n",
    "is relatively high so the data is somewhat normal, but not altogether ideal. \n",
    "A linear regression approach would probably be better than random guessing but likely not as good as a \n",
    "nonlinear approach.\n",
    "\n",
    "Skew – a measure of data symmetry. We want to see something close to zero, indicating the residual distribution \n",
    "is normal. Note that this value also drives the Omnibus. This result has a small, and therefore good, skew.\n",
    "\n",
    "Kurtosis – a measure of \"peakiness\", or curvature of the data. Higher peaks lead to greater Kurtosis. \n",
    "Greater Kurtosis can be interpreted as a tighter clustering of residuals around zero, implying a better \n",
    "model with few outliers.\n",
    "\n",
    "Durbin-Watson – tests for homoscedasticity (characteristic #3). We hope to have a value between 1 and 2. \n",
    "In this case, the data is close, but within limits.\n",
    "\n",
    "Jarque-Bera (JB)/Prob(JB) – like the Omnibus test in that it tests both skew and kurtosis. We hope to see \n",
    "in this test a confirmation of the Omnibus test. In this case we do.\n",
    "\n",
    "Condition Number – This test measures the sensitivity of a function's output as compared to its input \n",
    "(characteristic #4). When we have multicollinearity, we can expect much higher fluctuations to small \n",
    "changes in the data, hence, we hope to see a relatively small number, something below 30. \n",
    "In this case we are well below 30, which we would expect given our model only has two variables and one \n",
    "is a constant.'''"
   ]
  },
  {
   "cell_type": "code",
   "execution_count": 37,
   "metadata": {},
   "outputs": [
    {
     "name": "stdout",
     "output_type": "stream",
     "text": [
      "                            OLS Regression Results                            \n",
      "==============================================================================\n",
      "Dep. Variable:               BanksNum   R-squared:                       0.642\n",
      "Model:                            OLS   Adj. R-squared:                  0.626\n",
      "Method:                 Least Squares   F-statistic:                     39.45\n",
      "Date:                Wed, 31 Jul 2019   Prob (F-statistic):           2.54e-06\n",
      "Time:                        09:35:10   Log-Likelihood:                -176.18\n",
      "No. Observations:                  24   AIC:                             356.4\n",
      "Df Residuals:                      22   BIC:                             358.7\n",
      "Df Model:                           1                                         \n",
      "Covariance Type:            nonrobust                                         \n",
      "==============================================================================\n",
      "                 coef    std err          t      P>|t|      [0.025      0.975]\n",
      "------------------------------------------------------------------------------\n",
      "const       3.291e+04   3048.333     10.795      0.000    2.66e+04    3.92e+04\n",
      "USNIM      -4761.6087    758.112     -6.281      0.000   -6333.837   -3189.380\n",
      "==============================================================================\n",
      "Omnibus:                        0.485   Durbin-Watson:                   0.444\n",
      "Prob(Omnibus):                  0.785   Jarque-Bera (JB):                0.508\n",
      "Skew:                           0.292   Prob(JB):                        0.776\n",
      "Kurtosis:                       2.592   Cond. No.                         164.\n",
      "==============================================================================\n",
      "\n",
      "Warnings:\n",
      "[1] Standard Errors assume that the covariance matrix of the errors is correctly specified.\n"
     ]
    }
   ],
   "source": [
    "#Step 2: Run model for the first 24 qaurters - start of the period \n",
    "y_start = df.BanksNum.iloc[0:24]\n",
    "x_start = df.USNIM.iloc[0:24]\n",
    "mod = sm.OLS(y_start, sm.add_constant(x_start))\n",
    "res = mod.fit()\n",
    "print(res.summary())"
   ]
  },
  {
   "cell_type": "code",
   "execution_count": 38,
   "metadata": {},
   "outputs": [
    {
     "data": {
      "text/plain": [
       "<matplotlib.collections.PathCollection at 0x1c24177d30>"
      ]
     },
     "execution_count": 38,
     "metadata": {},
     "output_type": "execute_result"
    },
    {
     "data": {
      "image/png": "[encoded data removed]",
      "text/plain": [
       "<Figure size 432x288 with 1 Axes>"
      ]
     },
     "metadata": {
      "needs_background": "light"
     },
     "output_type": "display_data"
    }
   ],
   "source": [
    "plt.scatter(y=y_start, x=x_start)"
   ]
  },
  {
   "cell_type": "code",
   "execution_count": 39,
   "metadata": {},
   "outputs": [
    {
     "name": "stdout",
     "output_type": "stream",
     "text": [
      "                            OLS Regression Results                            \n",
      "==============================================================================\n",
      "Dep. Variable:               BanksNum   R-squared:                       0.203\n",
      "Model:                            OLS   Adj. R-squared:                  0.166\n",
      "Method:                 Least Squares   F-statistic:                     5.591\n",
      "Date:                Wed, 31 Jul 2019   Prob (F-statistic):             0.0273\n",
      "Time:                        09:35:15   Log-Likelihood:                -174.48\n",
      "No. Observations:                  24   AIC:                             353.0\n",
      "Df Residuals:                      22   BIC:                             355.3\n",
      "Df Model:                           1                                         \n",
      "Covariance Type:            nonrobust                                         \n",
      "==============================================================================\n",
      "                 coef    std err          t      P>|t|      [0.025      0.975]\n",
      "------------------------------------------------------------------------------\n",
      "const       9943.1402   1983.184      5.014      0.000    5830.269    1.41e+04\n",
      "USNIM      -1496.5584    632.910     -2.365      0.027   -2809.133    -183.984\n",
      "==============================================================================\n",
      "Omnibus:                        5.132   Durbin-Watson:                   0.062\n",
      "Prob(Omnibus):                  0.077   Jarque-Bera (JB):                4.506\n",
      "Skew:                           1.042   Prob(JB):                        0.105\n",
      "Kurtosis:                       2.597   Cond. No.                         92.4\n",
      "==============================================================================\n",
      "\n",
      "Warnings:\n",
      "[1] Standard Errors assume that the covariance matrix of the errors is correctly specified.\n"
     ]
    }
   ],
   "source": [
    "#Step 3: Run model for last 24 qaurters - end of the period\n",
    "y_end = df.BanksNum.iloc[117:141]\n",
    "x_end = df.USNIM.iloc[117:141]\n",
    "mod = sm.OLS(y_end, sm.add_constant(x_end))\n",
    "res = mod.fit()\n",
    "print(res.summary())"
   ]
  },
  {
   "cell_type": "code",
   "execution_count": 40,
   "metadata": {},
   "outputs": [
    {
     "data": {
      "text/plain": [
       "<matplotlib.collections.PathCollection at 0x1c241e1080>"
      ]
     },
     "execution_count": 40,
     "metadata": {},
     "output_type": "execute_result"
    },
    {
     "data": {
      "image/png": "[encoded data removed]",
      "text/plain": [
       "<Figure size 432x288 with 1 Axes>"
      ]
     },
     "metadata": {
      "needs_background": "light"
     },
     "output_type": "display_data"
    }
   ],
   "source": [
    "plt.scatter(x=x_end, y=y_end )"
   ]
  },
  {
   "cell_type": "code",
   "execution_count": 41,
   "metadata": {},
   "outputs": [
    {
     "data": {
      "image/png": "[encoded data removed]",
      "text/plain": [
       "<Figure size 1440x720 with 4 Axes>"
      ]
     },
     "metadata": {
      "needs_background": "light"
     },
     "output_type": "display_data"
    }
   ],
   "source": [
    "\n",
    "\n",
    "fig, axs = plt.subplots(1, 4, figsize = (20,10), sharey = 'row', sharex = 'row', gridspec_kw={'hspace': 0.1, 'wspace': 0.1})\n",
    "fig.suptitle('Figure 4: Number of banks and net income by asset size at period end (2018)')\n",
    "(ax1, ax2, ax3, ax4) = axs\n",
    "ax1.scatter(y = df.US100NUM.iloc[117:141], x = df.US100NIM.iloc[117:141])\n",
    "ax1.set_title('Assets <$100M')\n",
    "ax2.scatter(y = df.US13NUM.iloc[117:141], x = df.US13NIM.iloc[117:141])\n",
    "ax2.set_title('Assets $100M-$300M')\n",
    "ax3.scatter(y = df.US31NUM.iloc[117:141], x = df.US31NIM.iloc[117:141])\n",
    "ax3.set_title('Assets $300M-$1B')\n",
    "ax4.scatter(y = df.US115NUM.iloc[117:141], x = df.US115NIM.iloc[117:141])\n",
    "ax4.set_title('Assets $1B-$15M')\n",
    "plt.show()"
   ]
  },
  {
   "cell_type": "code",
   "execution_count": 42,
   "metadata": {},
   "outputs": [
    {
     "data": {
      "image/png": "[encoded data removed]",
      "text/plain": [
       "<Figure size 1440x720 with 4 Axes>"
      ]
     },
     "metadata": {
      "needs_background": "light"
     },
     "output_type": "display_data"
    }
   ],
   "source": [
    "fig, axs = plt.subplots(1, 4, figsize = (20,10), sharey = 'row', sharex = 'row', gridspec_kw={'hspace': 0.1, 'wspace': 0.1})\n",
    "fig.suptitle('Figure 4: Number of banks and net income by asset size at period start (1984)')\n",
    "(ax1, ax2, ax3, ax4) = axs\n",
    "ax1.scatter(y = df.US100NUM.iloc[0:24], x = df.US100NIM.iloc[0:24])\n",
    "ax1.set_title('Assets <$100M')\n",
    "ax2.scatter(y = df.US13NUM.iloc[0:24], x = df.US13NIM.iloc[0:24])\n",
    "ax2.set_title('Assets $100M-$300M')\n",
    "ax3.scatter(y = df.US31NUM.iloc[0:24], x = df.US31NIM.iloc[0:24])\n",
    "ax3.set_title('Assets $300M-$1B')\n",
    "ax4.scatter(y = df.US115NUM.iloc[0:24], x = df.US115NIM.iloc[0:24])\n",
    "ax4.set_title('Assets $1B-$15M')\n",
    "plt.show()"
   ]
  },
  {
   "cell_type": "code",
   "execution_count": 43,
   "metadata": {},
   "outputs": [
    {
     "name": "stdout",
     "output_type": "stream",
     "text": [
      "                            OLS Regression Results                            \n",
      "==============================================================================\n",
      "Dep. Variable:               BanksNum   R-squared:                       0.852\n",
      "Model:                            OLS   Adj. R-squared:                  0.845\n",
      "Method:                 Least Squares   F-statistic:                     126.3\n",
      "Date:                Wed, 31 Jul 2019   Prob (F-statistic):           1.39e-10\n",
      "Time:                        09:35:23   Log-Likelihood:                -165.61\n",
      "No. Observations:                  24   AIC:                             335.2\n",
      "Df Residuals:                      22   BIC:                             337.6\n",
      "Df Model:                           1                                         \n",
      "Covariance Type:            nonrobust                                         \n",
      "==============================================================================\n",
      "                 coef    std err          t      P>|t|      [0.025      0.975]\n",
      "------------------------------------------------------------------------------\n",
      "const        1.97e+04    530.973     37.111      0.000    1.86e+04    2.08e+04\n",
      "USTAST     -2.086e-06   1.86e-07    -11.238      0.000   -2.47e-06    -1.7e-06\n",
      "==============================================================================\n",
      "Omnibus:                        2.666   Durbin-Watson:                   0.170\n",
      "Prob(Omnibus):                  0.264   Jarque-Bera (JB):                1.349\n",
      "Skew:                           0.211   Prob(JB):                        0.509\n",
      "Kurtosis:                       1.917   Cond. No.                     2.97e+10\n",
      "==============================================================================\n",
      "\n",
      "Warnings:\n",
      "[1] Standard Errors assume that the covariance matrix of the errors is correctly specified.\n",
      "[2] The condition number is large, 2.97e+10. This might indicate that there are\n",
      "strong multicollinearity or other numerical problems.\n"
     ]
    }
   ],
   "source": [
    "#Regression of form NUM = b_0+b_1(USTATS)\n",
    "#Step N: Run model for the first 24 qaurters - start of the period \n",
    "y_start = df.BanksNum.iloc[0:24]\n",
    "x_start = df.USTAST.iloc[0:24]\n",
    "mod = sm.OLS(y_start, sm.add_constant(x_start))\n",
    "res = mod.fit()\n",
    "print(res.summary())\n",
    "\n"
   ]
  },
  {
   "cell_type": "code",
   "execution_count": 44,
   "metadata": {},
   "outputs": [
    {
     "data": {
      "image/png": "[encoded data removed]",
      "text/plain": [
       "<Figure size 432x288 with 1 Axes>"
      ]
     },
     "metadata": {
      "needs_background": "light"
     },
     "output_type": "display_data"
    }
   ],
   "source": [
    "plt.scatter(y=y_start, x=x_start)\n",
    "plt.show()\n",
    "\n"
   ]
  },
  {
   "cell_type": "code",
   "execution_count": 45,
   "metadata": {},
   "outputs": [
    {
     "name": "stdout",
     "output_type": "stream",
     "text": [
      "                            OLS Regression Results                            \n",
      "==============================================================================\n",
      "Dep. Variable:               BanksNum   R-squared:                       0.852\n",
      "Model:                            OLS   Adj. R-squared:                  0.845\n",
      "Method:                 Least Squares   F-statistic:                     126.3\n",
      "Date:                Wed, 31 Jul 2019   Prob (F-statistic):           1.39e-10\n",
      "Time:                        09:35:27   Log-Likelihood:                -165.61\n",
      "No. Observations:                  24   AIC:                             335.2\n",
      "Df Residuals:                      22   BIC:                             337.6\n",
      "Df Model:                           1                                         \n",
      "Covariance Type:            nonrobust                                         \n",
      "==============================================================================\n",
      "                 coef    std err          t      P>|t|      [0.025      0.975]\n",
      "------------------------------------------------------------------------------\n",
      "const        1.97e+04    530.973     37.111      0.000    1.86e+04    2.08e+04\n",
      "USTAST     -2.086e-06   1.86e-07    -11.238      0.000   -2.47e-06    -1.7e-06\n",
      "==============================================================================\n",
      "Omnibus:                        2.666   Durbin-Watson:                   0.170\n",
      "Prob(Omnibus):                  0.264   Jarque-Bera (JB):                1.349\n",
      "Skew:                           0.211   Prob(JB):                        0.509\n",
      "Kurtosis:                       1.917   Cond. No.                     2.97e+10\n",
      "==============================================================================\n",
      "\n",
      "Warnings:\n",
      "[1] Standard Errors assume that the covariance matrix of the errors is correctly specified.\n",
      "[2] The condition number is large, 2.97e+10. This might indicate that there are\n",
      "strong multicollinearity or other numerical problems.\n"
     ]
    }
   ],
   "source": [
    "#Regression of form NUM = b_0+b_1(USTATS)\n",
    "#Step N: Run model for the last 24 qaurters - end of the period \n",
    "y_end = df.BanksNum.iloc[117:141]\n",
    "x_end = df.USTAST.iloc[117:141]\n",
    "mod = sm.OLS(y_start, sm.add_constant(x_start))\n",
    "res = mod.fit()\n",
    "print(res.summary())"
   ]
  },
  {
   "cell_type": "code",
   "execution_count": 46,
   "metadata": {},
   "outputs": [
    {
     "data": {
      "image/png": "[encoded data removed]",
      "text/plain": [
       "<Figure size 432x288 with 1 Axes>"
      ]
     },
     "metadata": {
      "needs_background": "light"
     },
     "output_type": "display_data"
    }
   ],
   "source": [
    "plt.scatter(y=y_end, x=x_end)\n",
    "plt.show()\n"
   ]
  },
  {
   "cell_type": "code",
   "execution_count": 47,
   "metadata": {},
   "outputs": [
    {
     "name": "stdout",
     "output_type": "stream",
     "text": [
      "                            OLS Regression Results                            \n",
      "==============================================================================\n",
      "Dep. Variable:               BanksNum   R-squared:                       0.852\n",
      "Model:                            OLS   Adj. R-squared:                  0.838\n",
      "Method:                 Least Squares   F-statistic:                     60.43\n",
      "Date:                Wed, 31 Jul 2019   Prob (F-statistic):           1.94e-09\n",
      "Time:                        09:35:31   Log-Likelihood:                -165.58\n",
      "No. Observations:                  24   AIC:                             337.2\n",
      "Df Residuals:                      21   BIC:                             340.7\n",
      "Df Model:                           2                                         \n",
      "Covariance Type:            nonrobust                                         \n",
      "==============================================================================\n",
      "                 coef    std err          t      P>|t|      [0.025      0.975]\n",
      "------------------------------------------------------------------------------\n",
      "const       1.966e+04    582.806     33.733      0.000    1.84e+04    2.09e+04\n",
      "USNP       -2.328e-06   1.09e-05     -0.214      0.832   -2.49e-05    2.03e-05\n",
      "USTAST     -2.026e-06    3.4e-07     -5.955      0.000   -2.73e-06   -1.32e-06\n",
      "==============================================================================\n",
      "Omnibus:                        3.676   Durbin-Watson:                   0.152\n",
      "Prob(Omnibus):                  0.159   Jarque-Bera (JB):                1.505\n",
      "Skew:                           0.169   Prob(JB):                        0.471\n",
      "Kurtosis:                       1.821   Cond. No.                     3.18e+10\n",
      "==============================================================================\n",
      "\n",
      "Warnings:\n",
      "[1] Standard Errors assume that the covariance matrix of the errors is correctly specified.\n",
      "[2] The condition number is large, 3.18e+10. This might indicate that there are\n",
      "strong multicollinearity or other numerical problems.\n"
     ]
    }
   ],
   "source": [
    "#Regression of form NUM = b_0+b_1(USTATS)+b_2(NP)\n",
    "#Step N: Run model for the first 24 qaurters - start of the period \n",
    "\n",
    "y_start = df.BanksNum.iloc[0:24]\n",
    "x_start = df[['USNP', 'USTAST']].iloc[0:24]\n",
    "#X = df_adv[['TV', 'Radio']]\n",
    "#x_start = df.USTAST.iloc[0:24]\n",
    "mod = sm.OLS(y_start, sm.add_constant(x_start))\n",
    "res = mod.fit()\n",
    "print(res.summary())"
   ]
  },
  {
   "cell_type": "code",
   "execution_count": 48,
   "metadata": {},
   "outputs": [
    {
     "name": "stdout",
     "output_type": "stream",
     "text": [
      "                            OLS Regression Results                            \n",
      "==============================================================================\n",
      "Dep. Variable:               BanksNum   R-squared:                       0.993\n",
      "Model:                            OLS   Adj. R-squared:                  0.993\n",
      "Method:                 Least Squares   F-statistic:                     1603.\n",
      "Date:                Wed, 31 Jul 2019   Prob (F-statistic):           1.10e-23\n",
      "Time:                        09:35:40   Log-Likelihood:                -116.78\n",
      "No. Observations:                  24   AIC:                             239.6\n",
      "Df Residuals:                      21   BIC:                             243.1\n",
      "Df Model:                           2                                         \n",
      "Covariance Type:            nonrobust                                         \n",
      "==============================================================================\n",
      "                 coef    std err          t      P>|t|      [0.025      0.975]\n",
      "------------------------------------------------------------------------------\n",
      "const       1.063e+04    426.780     24.904      0.000    9741.084    1.15e+04\n",
      "USNP        3.159e-07   6.56e-07      0.482      0.635   -1.05e-06    1.68e-06\n",
      "USTAST     -3.596e-07   2.28e-08    -15.767      0.000   -4.07e-07   -3.12e-07\n",
      "==============================================================================\n",
      "Omnibus:                        0.412   Durbin-Watson:                   0.956\n",
      "Prob(Omnibus):                  0.814   Jarque-Bera (JB):                0.498\n",
      "Skew:                           0.263   Prob(JB):                        0.779\n",
      "Kurtosis:                       2.529   Cond. No.                     9.40e+11\n",
      "==============================================================================\n",
      "\n",
      "Warnings:\n",
      "[1] Standard Errors assume that the covariance matrix of the errors is correctly specified.\n",
      "[2] The condition number is large, 9.4e+11. This might indicate that there are\n",
      "strong multicollinearity or other numerical problems.\n"
     ]
    }
   ],
   "source": [
    "#Regression of form NUM = b_0+b_1(USTATS)+b_2(NP)\n",
    "#Step N: Run model for the last 24 qaurters - end of the period \n",
    "\n",
    "y_start = df.BanksNum.iloc[117:141]\n",
    "x_start = df[['USNP', 'USTAST']].iloc[117:141]\n",
    "mod = sm.OLS(y_start, sm.add_constant(x_start))\n",
    "res = mod.fit()\n",
    "print(res.summary())"
   ]
  },
  {
   "cell_type": "code",
   "execution_count": 318,
   "metadata": {},
   "outputs": [
    {
     "data": {
      "text/plain": [
       "const     6.627351e-24\n",
       "USNP      5.465594e-02\n",
       "USTAST    1.242208e-06\n",
       "dtype: float64"
      ]
     },
     "execution_count": 318,
     "metadata": {},
     "output_type": "execute_result"
    }
   ],
   "source": [
    "#Use this for table\n",
    "res.pvalues\n",
    "#res.conf_int()\n",
    "'''\n",
    "US100NUM', 'US13NUM', 'US31NUM', 'US115NUM', 'USG15NUM', 'US100NIM',\n",
    "       'US13NIM', 'US31NIM', 'US115NIM', 'USG15NIM', 'US100ROA', 'US13ROA',\n",
    "       'US31ROA', 'US115ROA', 'USG15ROA', 'US100ROE', 'US13ROE', 'US31ROE',\n",
    "       'US115ROE', 'USG15ROE', 'US100LLRTL', 'US13LLRTL', 'US31LLRTL',\n",
    "       'US115LLRTL', 'USG15LLRTL', 'US100NPTL', 'US13NPTL', 'US31NPTL',\n",
    "       'US115NPTL', 'USG15NPTL', 'USNIM', 'USROA', 'USNP', 'USTAST''''"
   ]
  },
  {
   "cell_type": "code",
   "execution_count": 49,
   "metadata": {},
   "outputs": [
    {
     "name": "stdout",
     "output_type": "stream",
     "text": [
      "                            OLS Regression Results                            \n",
      "==============================================================================\n",
      "Dep. Variable:               US100NIM   R-squared:                       0.763\n",
      "Model:                            OLS   Adj. R-squared:                  0.713\n",
      "Method:                 Least Squares   F-statistic:                     15.26\n",
      "Date:                Wed, 31 Jul 2019   Prob (F-statistic):           9.60e-06\n",
      "Time:                        09:36:07   Log-Likelihood:                 48.042\n",
      "No. Observations:                  24   AIC:                            -86.08\n",
      "Df Residuals:                      19   BIC:                            -80.19\n",
      "Df Model:                           4                                         \n",
      "Covariance Type:            nonrobust                                         \n",
      "==============================================================================\n",
      "                 coef    std err          t      P>|t|      [0.025      0.975]\n",
      "------------------------------------------------------------------------------\n",
      "const          4.4632      0.782      5.710      0.000       2.827       6.099\n",
      "US100ROA       0.5342      0.584      0.915      0.372      -0.688       1.756\n",
      "US100ROE      -0.0166      0.073     -0.227      0.823      -0.170       0.137\n",
      "US100LLRTL    -0.9968      0.645     -1.546      0.139      -2.347       0.353\n",
      "US100NPTL      0.3690      0.243      1.518      0.145      -0.140       0.878\n",
      "==============================================================================\n",
      "Omnibus:                        1.234   Durbin-Watson:                   1.296\n",
      "Prob(Omnibus):                  0.540   Jarque-Bera (JB):                1.148\n",
      "Skew:                          -0.420   Prob(JB):                        0.563\n",
      "Kurtosis:                       2.335   Cond. No.                     1.16e+03\n",
      "==============================================================================\n",
      "\n",
      "Warnings:\n",
      "[1] Standard Errors assume that the covariance matrix of the errors is correctly specified.\n",
      "[2] The condition number is large, 1.16e+03. This might indicate that there are\n",
      "strong multicollinearity or other numerical problems.\n"
     ]
    }
   ],
   "source": [
    "y_start = df.US100NIM.iloc[117:141]\n",
    "x_start = df[['US100ROA', 'US100ROE', 'US100LLRTL', 'US100NPTL']].iloc[117:141]\n",
    "mod = sm.OLS(y_start, sm.add_constant(x_start))\n",
    "res = mod.fit()\n",
    "print(res.summary())"
   ]
  },
  {
   "cell_type": "code",
   "execution_count": 321,
   "metadata": {},
   "outputs": [
    {
     "name": "stdout",
     "output_type": "stream",
     "text": [
      "                            OLS Regression Results                            \n",
      "==============================================================================\n",
      "Dep. Variable:               US100NIM   R-squared:                       0.736\n",
      "Model:                            OLS   Adj. R-squared:                  0.711\n",
      "Method:                 Least Squares   F-statistic:                     29.30\n",
      "Date:                Tue, 30 Jul 2019   Prob (F-statistic):           8.38e-07\n",
      "Time:                        15:10:59   Log-Likelihood:                 44.676\n",
      "No. Observations:                  24   AIC:                            -83.35\n",
      "Df Residuals:                      21   BIC:                            -79.82\n",
      "Df Model:                           2                                         \n",
      "Covariance Type:            nonrobust                                         \n",
      "==============================================================================\n",
      "                 coef    std err          t      P>|t|      [0.025      0.975]\n",
      "------------------------------------------------------------------------------\n",
      "const          3.9619      0.238     16.675      0.000       3.468       4.456\n",
      "US100ROA       1.1794      0.219      5.378      0.000       0.723       1.636\n",
      "US100NPTL     -0.7241      0.111     -6.550      0.000      -0.954      -0.494\n",
      "==============================================================================\n",
      "Omnibus:                        9.318   Durbin-Watson:                   0.796\n",
      "Prob(Omnibus):                  0.009   Jarque-Bera (JB):                7.290\n",
      "Skew:                           1.254   Prob(JB):                       0.0261\n",
      "Kurtosis:                       3.999   Cond. No.                         67.8\n",
      "==============================================================================\n",
      "\n",
      "Warnings:\n",
      "[1] Standard Errors assume that the covariance matrix of the errors is correctly specified.\n"
     ]
    }
   ],
   "source": [
    "y_start = df.US100NIM.iloc[117:141]\n",
    "x_start = df[['US100ROA', 'US100NPTL']].iloc[117:141]\n",
    "mod = sm.OLS(y_start, sm.add_constant(x_start))\n",
    "res = mod.fit()\n",
    "print(res.summary())"
   ]
  },
  {
   "cell_type": "code",
   "execution_count": 50,
   "metadata": {},
   "outputs": [
    {
     "data": {
      "text/plain": [
       "Index(['DATE', 'US100NUM', 'US13NUM', 'US31NUM', 'US115NUM', 'USG15NUM',\n",
       "       'US100NIM', 'US13NIM', 'US31NIM', 'US115NIM', 'USG15NIM', 'US100ROA',\n",
       "       'US13ROA', 'US31ROA', 'US115ROA', 'USG15ROA', 'US100ROE', 'US13ROE',\n",
       "       'US31ROE', 'US115ROE', 'USG15ROE', 'US100LLRTL', 'US13LLRTL',\n",
       "       'US31LLRTL', 'US115LLRTL', 'USG15LLRTL', 'US100NPTL', 'US13NPTL',\n",
       "       'US31NPTL', 'US115NPTL', 'USG15NPTL', 'TinyBanksNum', 'SmallBanksNum',\n",
       "       'MidBanksNum', 'LargeBanksNum', 'BanksNum', 'USNIM', 'USROA', 'USNP',\n",
       "       'USTAST'],\n",
       "      dtype='object')"
      ]
     },
     "execution_count": 50,
     "metadata": {},
     "output_type": "execute_result"
    }
   ],
   "source": [
    "df.columns"
   ]
  },
  {
   "cell_type": "code",
   "execution_count": 61,
   "metadata": {},
   "outputs": [
    {
     "name": "stdout",
     "output_type": "stream",
     "text": [
      "Lasso parameter coefficients: [-0.03275357 -0.01464955 -0.04764989 -0.02116696  0.0609239   0.04857894\n",
      "  0.07731985  0.06047817 -0.00546644 -0.01568078 -0.00120516 -0.00450359\n",
      " -0.01706243  0.04682428  0.02525194  0.0020609  -0.04304604  0.00545292\n",
      "  0.03868115 -0.02636354]\n",
      "Training r^2: 0.9872221703447474\n",
      "Testing r^2: 0.9726438557086272\n",
      "Training MSE: 0.0001037022207460091\n",
      "Testing MSE: 0.00029262968351826123\n",
      "Lasso parameter coefficients: [-0.         -0.         -0.         -0.         -0.         -0.\n",
      "  0.          0.         -0.00965202 -0.         -0.         -0.\n",
      "  0.          0.         -0.         -0.         -0.         -0.\n",
      " -0.         -0.        ]\n",
      "Training r^2: 0.3245168726875955\n",
      "Testing r^2: 0.0794844482073205\n",
      "Training MSE: 0.005482081250782666\n",
      "Testing MSE: 0.009846788777162566\n"
     ]
    }
   ],
   "source": [
    "#Penalized estimation -- variable selection with Ridge and Lasso algorithm\n",
    "#First, run Small banks number on all the features\n",
    "from sklearn.linear_model import Lasso, Ridge, LinearRegression\n",
    "from sklearn.model_selection import train_test_split\n",
    "from sklearn.metrics import mean_squared_error, mean_squared_log_error\n",
    "\n",
    "y = df.SmallBanksNum\n",
    "x = df[['US100NIM', 'US13NIM', 'US31NIM', 'US115NIM', 'US100ROA',\n",
    "       'US13ROA', 'US31ROA', 'US115ROA', 'US100ROE', 'US13ROE',\n",
    "       'US31ROE', 'US115ROE', 'US100LLRTL', 'US13LLRTL',\n",
    "       'US31LLRTL', 'US115LLRTL', 'US100NPTL', 'US13NPTL',\n",
    "       'US31NPTL', 'US115NPTL']]\n",
    "# Perform test train split\n",
    "X_train , X_test, y_train, y_test = train_test_split(x, y, test_size=0.3, random_state=12)\n",
    "# Build a Ridge, Lasso and regular linear regression model. \n",
    "# Note how in scikit learn, the regularization parameter is denoted by alpha (and not lambda)\n",
    "ridge = Ridge(alpha=0.1)\n",
    "ridge.fit(X_train, y_train)\n",
    "print('Lasso parameter coefficients:', ridge.coef_)\n",
    "print('Training r^2:', ridge.score(X_train, y_train))\n",
    "print('Testing r^2:', ridge.score(X_test, y_test))\n",
    "print('Training MSE:', mean_squared_error(y_train, ridge.predict(X_train)))\n",
    "print('Testing MSE:', mean_squared_error(y_test, ridge.predict(X_test)))\n",
    "lasso = Lasso(alpha=0.1)\n",
    "lasso.fit(X_train, y_train)\n",
    "print('Lasso parameter coefficients:', lasso.coef_)\n",
    "print('Training r^2:', lasso.score(X_train, y_train))\n",
    "print('Testing r^2:', lasso.score(X_test, y_test))\n",
    "print('Training MSE:', mean_squared_error(y_train, lasso.predict(X_train)))\n",
    "print('Testing MSE:', mean_squared_error(y_test, lasso.predict(X_test)))"
   ]
  },
  {
   "cell_type": "code",
   "execution_count": 59,
   "metadata": {},
   "outputs": [
    {
     "name": "stdout",
     "output_type": "stream",
     "text": [
      "Lasso parameter coefficients: [-0.12505165  0.22573377 -0.03018296  0.0744907  -0.03678268]\n",
      "Lasso parameter coefficients: [-0.         -0.         -0.00965202  0.         -0.        ]\n"
     ]
    }
   ],
   "source": [
    "#Second, run Small bank number on small bank features only\n",
    "y = df.SmallBanksNum\n",
    "x = df[['US100NIM', 'US100ROA', 'US100ROE', 'US100LLRTL', 'US100NPTL']]\n",
    "# Perform test train split\n",
    "X_train , X_test, y_train, y_test = train_test_split(x, y, test_size=0.3, random_state=12)\n",
    "# Build a Ridge, Lasso and regular linear regression model. \n",
    "# Note how in scikit learn, the regularization parameter is denoted by alpha (and not lambda)\n",
    "ridge = Ridge(alpha=0.1)\n",
    "ridge.fit(X_train, y_train)\n",
    "print('Lasso parameter coefficients:', ridge.coef_)\n",
    "lasso = Lasso(alpha=0.1)\n",
    "lasso.fit(X_train, y_train)\n",
    "print('Lasso parameter coefficients:', lasso.coef_)"
   ]
  },
  {
   "cell_type": "code",
   "execution_count": null,
   "metadata": {},
   "outputs": [],
   "source": [
    "#Penalized estimation -- variable selection with Lasso algorithm\n",
    "from sklearn.linear_model import Lasso, Ridge, LinearRegression\n",
    "\n",
    "y = data[[\"mpg\"]]\n",
    "X = data.drop([\"mpg\", \"car name\", \"origin\"], axis=1)\n",
    "# Perform test train split\n",
    "X_train , X_test, y_train, y_test = train_test_split(X, y, test_size=0.3, random_state=12)\n",
    "\n",
    "# Build a Ridge, Lasso and regular linear regression model. \n",
    "# Note how in scikit learn, the regularization parameter is denoted by alpha (and not lambda)\n",
    "ridge = Ridge(alpha=0.5)\n",
    "ridge.fit(X_train, y_train)\n",
    "\n",
    "lasso = Lasso(alpha=0.5)\n",
    "lasso.fit(X_train, y_train)\n",
    "print('Lasso parameter coefficients:', lasso.coef_)\n",
    "\n"
   ]
  },
  {
   "cell_type": "code",
   "execution_count": null,
   "metadata": {},
   "outputs": [],
   "source": [
    "#TODO: run lasso on Y = small banks and X = all the features\n",
    "# Split in train and test\n",
    "from sklearn.linear_model import Lasso, Ridge\n",
    "\n",
    "X_train, X_test, y_train, y_test = train_test_split(X,y)\n",
    "\n",
    "\n",
    "lasso = Lasso(alpha=10) #Lasso is also known as the L1 norm.\n",
    "lasso.fit(X_train, y_train)\n",
    "print('Training r^2:', lasso.score(X_train, y_train))\n",
    "print('Testing r^2:', lasso.score(X_test, y_test))\n",
    "print('Training MSE:', mean_squared_error(y_train, lasso.predict(X_train)))\n",
    "print('Testing MSE:', mean_squared_error(y_test, lasso.predict(X_test)))\n"
   ]
  },
  {
   "cell_type": "code",
   "execution_count": null,
   "metadata": {},
   "outputs": [],
   "source": [
    "#Code for multiple plots:\n",
    "\n",
    "plt.figure(figsize=(16, 12))\n",
    "\n",
    "for (i, j) in enumerate(weights):\n",
    "    plt.subplot(3, 5, i + 1)\n",
    "    plt.title(list(X)[i], size='medium')\n",
    "    plt.plot(weight_col.iloc[i].T)\n",
    "    plt.axis('tight')"
   ]
  },
  {
   "cell_type": "code",
   "execution_count": 4,
   "metadata": {},
   "outputs": [
    {
     "data": {
      "text/plain": [
       "Text(0.5, 1.0, 'Sigmoid function demo')"
      ]
     },
     "execution_count": 4,
     "metadata": {},
     "output_type": "execute_result"
    },
    {
     "data": {
      "image/png": "[encoded data removed]",
      "text/plain": [
       "<Figure size 432x288 with 1 Axes>"
      ]
     },
     "metadata": {
      "needs_background": "light"
     },
     "output_type": "display_data"
    }
   ],
   "source": [
    "#Sigmoid function:\n",
    "\n",
    "import numpy as np\n",
    "def sigmoid(x):\n",
    "    x = np.array(x)\n",
    "    return 1/(1+np.e**(-1*x))\n",
    "\n",
    "x = np.linspace(start=-20, stop=20, num=10**4)\n",
    "y = [sigmoid(xi) for xi in x]\n",
    "plt.scatter(x, y)\n",
    "plt.title(\"Sigmoid function demo\")"
   ]
  },
  {
   "cell_type": "code",
   "execution_count": 5,
   "metadata": {},
   "outputs": [
    {
     "name": "stderr",
     "output_type": "stream",
     "text": [
      "/anaconda3/lib/python3.7/site-packages/sklearn/linear_model/logistic.py:433: FutureWarning: Default solver will be changed to 'lbfgs' in 0.22. Specify a solver to silence this warning.\n",
      "  FutureWarning)\n"
     ]
    },
    {
     "ename": "ValueError",
     "evalue": "Expected 2D array, got 1D array instead:\narray=[-20.        -19.9959996 -19.9919992 ...  19.9919992  19.9959996\n  20.       ].\nReshape your data either using array.reshape(-1, 1) if your data has a single feature or array.reshape(1, -1) if it contains a single sample.",
     "output_type": "error",
     "traceback": [
      "\u001b[0;31m---------------------------------------------------------------------------\u001b[0m",
      "\u001b[0;31mValueError\u001b[0m                                Traceback (most recent call last)",
      "\u001b[0;32m<ipython-input-5-3b779f792297>\u001b[0m in \u001b[0;36m<module>\u001b[0;34m\u001b[0m\n\u001b[1;32m      2\u001b[0m \u001b[0;34m\u001b[0m\u001b[0m\n\u001b[1;32m      3\u001b[0m \u001b[0mlogreg\u001b[0m \u001b[0;34m=\u001b[0m \u001b[0mLogisticRegression\u001b[0m\u001b[0;34m(\u001b[0m\u001b[0mfit_intercept\u001b[0m\u001b[0;34m=\u001b[0m\u001b[0;32mFalse\u001b[0m\u001b[0;34m,\u001b[0m \u001b[0mC\u001b[0m\u001b[0;34m=\u001b[0m\u001b[0;36m1e16\u001b[0m\u001b[0;34m,\u001b[0m \u001b[0mrandom_state\u001b[0m\u001b[0;34m=\u001b[0m\u001b[0;36m2\u001b[0m\u001b[0;34m)\u001b[0m\u001b[0;34m\u001b[0m\u001b[0;34m\u001b[0m\u001b[0m\n\u001b[0;32m----> 4\u001b[0;31m \u001b[0mlogreg\u001b[0m\u001b[0;34m.\u001b[0m\u001b[0mfit\u001b[0m\u001b[0;34m(\u001b[0m\u001b[0mx\u001b[0m\u001b[0;34m,\u001b[0m \u001b[0my\u001b[0m\u001b[0;34m)\u001b[0m\u001b[0;34m\u001b[0m\u001b[0;34m\u001b[0m\u001b[0m\n\u001b[0m\u001b[1;32m      5\u001b[0m \u001b[0;34m\u001b[0m\u001b[0m\n\u001b[1;32m      6\u001b[0m \u001b[0;31m#LogisticRegression(C=1e+16, class_weight=None, dual=False,\u001b[0m\u001b[0;34m\u001b[0m\u001b[0;34m\u001b[0m\u001b[0;34m\u001b[0m\u001b[0m\n",
      "\u001b[0;32m/anaconda3/lib/python3.7/site-packages/sklearn/linear_model/logistic.py\u001b[0m in \u001b[0;36mfit\u001b[0;34m(self, X, y, sample_weight)\u001b[0m\n\u001b[1;32m   1286\u001b[0m \u001b[0;34m\u001b[0m\u001b[0m\n\u001b[1;32m   1287\u001b[0m         X, y = check_X_y(X, y, accept_sparse='csr', dtype=_dtype, order=\"C\",\n\u001b[0;32m-> 1288\u001b[0;31m                          accept_large_sparse=solver != 'liblinear')\n\u001b[0m\u001b[1;32m   1289\u001b[0m         \u001b[0mcheck_classification_targets\u001b[0m\u001b[0;34m(\u001b[0m\u001b[0my\u001b[0m\u001b[0;34m)\u001b[0m\u001b[0;34m\u001b[0m\u001b[0;34m\u001b[0m\u001b[0m\n\u001b[1;32m   1290\u001b[0m         \u001b[0mself\u001b[0m\u001b[0;34m.\u001b[0m\u001b[0mclasses_\u001b[0m \u001b[0;34m=\u001b[0m \u001b[0mnp\u001b[0m\u001b[0;34m.\u001b[0m\u001b[0munique\u001b[0m\u001b[0;34m(\u001b[0m\u001b[0my\u001b[0m\u001b[0;34m)\u001b[0m\u001b[0;34m\u001b[0m\u001b[0;34m\u001b[0m\u001b[0m\n",
      "\u001b[0;32m/anaconda3/lib/python3.7/site-packages/sklearn/utils/validation.py\u001b[0m in \u001b[0;36mcheck_X_y\u001b[0;34m(X, y, accept_sparse, accept_large_sparse, dtype, order, copy, force_all_finite, ensure_2d, allow_nd, multi_output, ensure_min_samples, ensure_min_features, y_numeric, warn_on_dtype, estimator)\u001b[0m\n\u001b[1;32m    754\u001b[0m                     \u001b[0mensure_min_features\u001b[0m\u001b[0;34m=\u001b[0m\u001b[0mensure_min_features\u001b[0m\u001b[0;34m,\u001b[0m\u001b[0;34m\u001b[0m\u001b[0;34m\u001b[0m\u001b[0m\n\u001b[1;32m    755\u001b[0m                     \u001b[0mwarn_on_dtype\u001b[0m\u001b[0;34m=\u001b[0m\u001b[0mwarn_on_dtype\u001b[0m\u001b[0;34m,\u001b[0m\u001b[0;34m\u001b[0m\u001b[0;34m\u001b[0m\u001b[0m\n\u001b[0;32m--> 756\u001b[0;31m                     estimator=estimator)\n\u001b[0m\u001b[1;32m    757\u001b[0m     \u001b[0;32mif\u001b[0m \u001b[0mmulti_output\u001b[0m\u001b[0;34m:\u001b[0m\u001b[0;34m\u001b[0m\u001b[0;34m\u001b[0m\u001b[0m\n\u001b[1;32m    758\u001b[0m         y = check_array(y, 'csr', force_all_finite=True, ensure_2d=False,\n",
      "\u001b[0;32m/anaconda3/lib/python3.7/site-packages/sklearn/utils/validation.py\u001b[0m in \u001b[0;36mcheck_array\u001b[0;34m(array, accept_sparse, accept_large_sparse, dtype, order, copy, force_all_finite, ensure_2d, allow_nd, ensure_min_samples, ensure_min_features, warn_on_dtype, estimator)\u001b[0m\n\u001b[1;32m    550\u001b[0m                     \u001b[0;34m\"Reshape your data either using array.reshape(-1, 1) if \"\u001b[0m\u001b[0;34m\u001b[0m\u001b[0;34m\u001b[0m\u001b[0m\n\u001b[1;32m    551\u001b[0m                     \u001b[0;34m\"your data has a single feature or array.reshape(1, -1) \"\u001b[0m\u001b[0;34m\u001b[0m\u001b[0;34m\u001b[0m\u001b[0m\n\u001b[0;32m--> 552\u001b[0;31m                     \"if it contains a single sample.\".format(array))\n\u001b[0m\u001b[1;32m    553\u001b[0m \u001b[0;34m\u001b[0m\u001b[0m\n\u001b[1;32m    554\u001b[0m         \u001b[0;31m# in the future np.flexible dtypes will be handled like object dtypes\u001b[0m\u001b[0;34m\u001b[0m\u001b[0;34m\u001b[0m\u001b[0;34m\u001b[0m\u001b[0m\n",
      "\u001b[0;31mValueError\u001b[0m: Expected 2D array, got 1D array instead:\narray=[-20.        -19.9959996 -19.9919992 ...  19.9919992  19.9959996\n  20.       ].\nReshape your data either using array.reshape(-1, 1) if your data has a single feature or array.reshape(1, -1) if it contains a single sample."
     ]
    }
   ],
   "source": [
    "from sklearn.linear_model import LogisticRegression\n",
    "\n",
    "logreg = LogisticRegression(fit_intercept=False, C=1e16, random_state=2)\n",
    "logreg.fit(x, y)\n",
    "\n",
    "#LogisticRegression(C=1e+16, class_weight=None, dual=False,\n",
    "#           fit_intercept=False, intercept_scaling=1, max_iter=100,\n",
    "#           multi_class='ovr', n_jobs=1, penalty='l2', random_state=2,\n",
    "#           solver='liblinear', tol=0.0001, verbose=0, warm_start=False)"
   ]
  },
  {
   "cell_type": "code",
   "execution_count": null,
   "metadata": {},
   "outputs": [],
   "source": []
  }
 ],
 "metadata": {
  "kernelspec": {
   "display_name": "Python 3",
   "language": "python",
   "name": "python3"
  },
  "language_info": {
   "codemirror_mode": {
    "name": "ipython",
    "version": 3
   },
   "file_extension": ".py",
   "mimetype": "text/x-python",
   "name": "python",
   "nbconvert_exporter": "python",
   "pygments_lexer": "ipython3",
   "version": "3.7.3"
  }
 },
 "nbformat": 4,
 "nbformat_minor": 2
}
